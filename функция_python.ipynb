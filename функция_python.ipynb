{
 "cells": [
  {
   "cell_type": "markdown",
   "id": "4d2a5997",
   "metadata": {},
   "source": [
    "### Python\n",
    "\n",
    " Задача\n",
    "\n",
    "Реализуйте функцию, которая будет автоматически подгружать информацию из дополнительного файла groups_add.csv (заголовки могут отличаться) и на основании дополнительных параметров пересчитывать метрики.\n",
    "\n",
    "Реализуйте функцию, которая будет строить графики по получаемым метрикам."
   ]
  },
  {
   "cell_type": "code",
   "execution_count": 216,
   "id": "7beacc37",
   "metadata": {},
   "outputs": [
    {
     "data": {
      "text/html": [
       "<div>\n",
       "<style scoped>\n",
       "    .dataframe tbody tr th:only-of-type {\n",
       "        vertical-align: middle;\n",
       "    }\n",
       "\n",
       "    .dataframe tbody tr th {\n",
       "        vertical-align: top;\n",
       "    }\n",
       "\n",
       "    .dataframe thead th {\n",
       "        text-align: right;\n",
       "    }\n",
       "</style>\n",
       "<table border=\"1\" class=\"dataframe\">\n",
       "  <thead>\n",
       "    <tr style=\"text-align: right;\">\n",
       "      <th></th>\n",
       "      <th>id</th>\n",
       "      <th>grp</th>\n",
       "      <th>student_id</th>\n",
       "      <th>rev</th>\n",
       "    </tr>\n",
       "  </thead>\n",
       "  <tbody>\n",
       "    <tr>\n",
       "      <th>0</th>\n",
       "      <td>1627</td>\n",
       "      <td>A</td>\n",
       "      <td>1627</td>\n",
       "      <td>990.0</td>\n",
       "    </tr>\n",
       "    <tr>\n",
       "      <th>1</th>\n",
       "      <td>2085</td>\n",
       "      <td>B</td>\n",
       "      <td>2085</td>\n",
       "      <td>0.0</td>\n",
       "    </tr>\n",
       "    <tr>\n",
       "      <th>2</th>\n",
       "      <td>2215</td>\n",
       "      <td>B</td>\n",
       "      <td>2215</td>\n",
       "      <td>0.0</td>\n",
       "    </tr>\n",
       "    <tr>\n",
       "      <th>3</th>\n",
       "      <td>3391</td>\n",
       "      <td>A</td>\n",
       "      <td>3391</td>\n",
       "      <td>0.0</td>\n",
       "    </tr>\n",
       "    <tr>\n",
       "      <th>4</th>\n",
       "      <td>3401</td>\n",
       "      <td>B</td>\n",
       "      <td>3401</td>\n",
       "      <td>0.0</td>\n",
       "    </tr>\n",
       "  </tbody>\n",
       "</table>\n",
       "</div>"
      ],
      "text/plain": [
       "     id grp  student_id    rev\n",
       "0  1627   A        1627  990.0\n",
       "1  2085   B        2085    0.0\n",
       "2  2215   B        2215    0.0\n",
       "3  3391   A        3391    0.0\n",
       "4  3401   B        3401    0.0"
      ]
     },
     "execution_count": 216,
     "metadata": {},
     "output_type": "execute_result"
    }
   ],
   "source": [
    "# предположим у нас уже есть дата фрейм рабочий ( это дата фрейм который учитывает только активных пользователей)\n",
    "\n",
    "work_df = groups.merge(active_studs, left_on = 'id' , right_on = 'student_id' , how = 'inner')\n",
    "\n",
    "work_df = work_df.merge(checks, on = 'student_id', how = 'left')\n",
    "\n",
    "work_df = work_df.fillna(0)\n",
    "work_df.head()"
   ]
  },
  {
   "cell_type": "code",
   "execution_count": 217,
   "id": "193d516e",
   "metadata": {},
   "outputs": [],
   "source": [
    "#  у нас есть путь к файлу , который надо подгрузить к основному\n",
    "\n",
    "df_add = r'C:\\Users\\mesii\\Jupiter 2.0\\Karpov\\lesson\\final_project\\Проект_2_group_add.csv'"
   ]
  },
  {
   "cell_type": "code",
   "execution_count": 218,
   "id": "747f84fe",
   "metadata": {},
   "outputs": [],
   "source": [
    "sep = \",\" #разделитель"
   ]
  },
  {
   "cell_type": "code",
   "execution_count": 219,
   "id": "a77884dd",
   "metadata": {},
   "outputs": [],
   "source": [
    "# Напишем фуекцию , которая будет подгружать данные в уже рабочий дата фрейм\n",
    "\n",
    "def get_update(work_df, df_add, sep):\n",
    "    \n",
    "    group_add_df = pd.read_csv(df_add, sep=sep)\n",
    "    \n",
    "# добавляем строку в итоговый дф\n",
    "    df_all = pd.concat([work_df, group_add_df])\n",
    "    \n",
    "    return df_all        \n",
    "    \n",
    "    \n",
    "    "
   ]
  },
  {
   "cell_type": "code",
   "execution_count": 220,
   "id": "75a75e20",
   "metadata": {},
   "outputs": [
    {
     "data": {
      "text/plain": [
       "(8420, 4)"
      ]
     },
     "execution_count": 220,
     "metadata": {},
     "output_type": "execute_result"
    }
   ],
   "source": [
    "data_total = get_update(work_df, df_add, sep)\n",
    "data_total.shape"
   ]
  },
  {
   "cell_type": "code",
   "execution_count": 221,
   "id": "fa74f2f4",
   "metadata": {},
   "outputs": [],
   "source": [
    "# Создадим функцию, которая на основе новых данных будет пересчитывать метрики\n",
    "def metrix2(data_total):\n",
    "    CR_A = round(data_total.query('grp == \"A\" & rev > 0.0 ').student_id.count()/data_total.query('grp == \"A\"').student_id.count(),3)\n",
    "    CR_B = round(data_total.query('grp == \"B\" & rev > 0.0 ').student_id.count()/data_total.query('grp == \"B\"').student_id.count(),3)\n",
    "    ARPU_A = round(data_total.query('grp == \"A\" & rev > 0.0 ').rev.sum()/data_total.query('grp == \"A\"').id.count(),3)\n",
    "    ARPU_B = round(data_total.query('grp == \"B\" & rev > 0.0 ').rev.sum()/data_total.query('grp == \"B\"').id.count(),3)\n",
    "    ARPPU_A = round(data_total.query('grp == \"A\" & rev > 0.0 ').rev.sum()/data_total.query('grp == \"A\" & rev > 0.0 ').id.count(),2)\n",
    "    ARPPU_B = round(data_total.query('grp == \"B\" & rev > 0.0 ').rev.sum()/data_total.query('grp == \"B\" & rev > 0.0 ').id.count(),2)\n",
    "\n",
    "    data = {'grp': ['A', 'B'],\n",
    "           'CR' : [CR_A, CR_B],\n",
    "           'ARPU': [ARPU_A, ARPU_B],\n",
    "           'ARPPU' : [ARPPU_A, ARPPU_B]}  \n",
    "    \n",
    "    data_met = pd.DataFrame.from_dict(data)\n",
    "    \n",
    "    return(data_met)\n",
    "    "
   ]
  },
  {
   "cell_type": "code",
   "execution_count": 222,
   "id": "9f629c9b",
   "metadata": {},
   "outputs": [],
   "source": [
    "metrix_2 = metrix2(data_total)\n"
   ]
  },
  {
   "cell_type": "code",
   "execution_count": 223,
   "id": "1e92ea62",
   "metadata": {},
   "outputs": [
    {
     "data": {
      "text/html": [
       "<div>\n",
       "<style scoped>\n",
       "    .dataframe tbody tr th:only-of-type {\n",
       "        vertical-align: middle;\n",
       "    }\n",
       "\n",
       "    .dataframe tbody tr th {\n",
       "        vertical-align: top;\n",
       "    }\n",
       "\n",
       "    .dataframe thead th {\n",
       "        text-align: right;\n",
       "    }\n",
       "</style>\n",
       "<table border=\"1\" class=\"dataframe\">\n",
       "  <thead>\n",
       "    <tr style=\"text-align: right;\">\n",
       "      <th></th>\n",
       "      <th>grp</th>\n",
       "      <th>CR</th>\n",
       "      <th>ARPU</th>\n",
       "      <th>ARPPU</th>\n",
       "    </tr>\n",
       "  </thead>\n",
       "  <tbody>\n",
       "    <tr>\n",
       "      <th>0</th>\n",
       "      <td>A</td>\n",
       "      <td>0.051</td>\n",
       "      <td>46.769</td>\n",
       "      <td>933.59</td>\n",
       "    </tr>\n",
       "    <tr>\n",
       "      <th>1</th>\n",
       "      <td>B</td>\n",
       "      <td>0.046</td>\n",
       "      <td>57.274</td>\n",
       "      <td>1255.83</td>\n",
       "    </tr>\n",
       "  </tbody>\n",
       "</table>\n",
       "</div>"
      ],
      "text/plain": [
       "  grp     CR    ARPU    ARPPU\n",
       "0   A  0.051  46.769   933.59\n",
       "1   B  0.046  57.274  1255.83"
      ]
     },
     "execution_count": 223,
     "metadata": {},
     "output_type": "execute_result"
    }
   ],
   "source": [
    "metrix_2"
   ]
  },
  {
   "cell_type": "code",
   "execution_count": 224,
   "id": "163a830c",
   "metadata": {},
   "outputs": [],
   "source": [
    "# Напишем функцию, которая будет отрисовывать графики по навым метрикам"
   ]
  },
  {
   "cell_type": "code",
   "execution_count": 225,
   "id": "e823281c",
   "metadata": {},
   "outputs": [],
   "source": [
    "def metrix_2_plots(data_met):\n",
    "    sns.set_theme(style=\"whitegrid\")\n",
    "    fig, axs = plt.subplots(ncols=3, figsize=(19, 5))\n",
    "    sns.barplot(x=\"grp\", y=\"CR\", data=metrix_2, ax=axs[0]).set_title('CR'),\n",
    "    sns.barplot(x=\"grp\", y=\"ARPU\", data=metrix_2, ax=axs[1]).set_title('ARPU'),\n",
    "    sns.barplot(x=\"grp\", y=\"ARPPU\", data=metrix_2, ax=axs[2]).set_title('ARPPU')\n",
    "    "
   ]
  },
  {
   "cell_type": "code",
   "execution_count": 226,
   "id": "61dcb452",
   "metadata": {},
   "outputs": [
    {
     "data": {
      "image/png": "[encoded data removed]",
      "text/plain": [
       "<Figure size 1368x360 with 3 Axes>"
      ]
     },
     "metadata": {},
     "output_type": "display_data"
    }
   ],
   "source": [
    "metrix_2_plots(metrix_2)"
   ]
  }
 ],
 "metadata": {
  "kernelspec": {
   "display_name": "Python 3 (ipykernel)",
   "language": "python",
   "name": "python3"
  },
  "language_info": {
   "codemirror_mode": {
    "name": "ipython",
    "version": 3
   },
   "file_extension": ".py",
   "mimetype": "text/x-python",
   "name": "python",
   "nbconvert_exporter": "python",
   "pygments_lexer": "ipython3",
   "version": "3.9.7"
  }
 },
 "nbformat": 4,
 "nbformat_minor": 5
}
