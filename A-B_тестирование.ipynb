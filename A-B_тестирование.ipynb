{
 "cells": [
  {
   "cell_type": "markdown",
   "id": "ba6f9ab7",
   "metadata": {},
   "source": [
    "### A/B–тестирование\n",
    "Условие\n",
    "\n",
    "Одной из основных задач аналитика в нашей команде является корректное проведение экспериментов. Для этого мы применяем метод\n",
    "\n",
    "A/B–тестирования. В ходе тестирования одной гипотезы целевой группе была предложена новая механика оплаты услуг на сайте, у \n",
    "\n",
    "контрольной группы оставалась базовая механика. В качестве задания Вам необходимо проанализировать итоги эксперимента и сделать\n",
    "\n",
    "вывод, стоит ли запускать новую механику оплаты на всех пользователей."
   ]
  },
  {
   "cell_type": "markdown",
   "id": "abda9f1d",
   "metadata": {},
   "source": [
    "1. Вопросы\n",
    "\n",
    "\n",
    "\n",
    "- На какие метрики Вы смотрите в ходе анализа и почему?\n",
    "\n",
    "- Имеются ли различия в показателях и с чем они могут быть связаны?\n",
    "\n",
    "- Являются ли эти различия статистически значимыми?\n",
    "\n",
    "- Стоит ли запускать новую механику на всех пользователей?\n",
    "\n"
   ]
  },
  {
   "cell_type": "code",
   "execution_count": 124,
   "id": "a987ffac",
   "metadata": {},
   "outputs": [],
   "source": [
    "# Загрузим необходимые библиотеки"
   ]
  },
  {
   "cell_type": "code",
   "execution_count": 125,
   "id": "beb0023f",
   "metadata": {},
   "outputs": [],
   "source": [
    "import pandas as pd\n",
    "import numpy as np\n",
    "import seaborn as sns\n",
    "import matplotlib.pyplot as plt\n",
    "import scipy.stats\n",
    "import plotly.express as px\n",
    "\n",
    "from   scipy.stats import ttest_ind\n",
    "\n",
    "sns.set(rc={'figure.figsize':(12,6)}, style=\"whitegrid\")"
   ]
  },
  {
   "cell_type": "markdown",
   "id": "7568a0fa",
   "metadata": {},
   "source": [
    "### Загрузим данные и посмотрим на данные "
   ]
  },
  {
   "cell_type": "code",
   "execution_count": 126,
   "id": "e0efb944",
   "metadata": {},
   "outputs": [
    {
     "data": {
      "text/html": [
       "<div>\n",
       "<style scoped>\n",
       "    .dataframe tbody tr th:only-of-type {\n",
       "        vertical-align: middle;\n",
       "    }\n",
       "\n",
       "    .dataframe tbody tr th {\n",
       "        vertical-align: top;\n",
       "    }\n",
       "\n",
       "    .dataframe thead th {\n",
       "        text-align: right;\n",
       "    }\n",
       "</style>\n",
       "<table border=\"1\" class=\"dataframe\">\n",
       "  <thead>\n",
       "    <tr style=\"text-align: right;\">\n",
       "      <th></th>\n",
       "      <th>id</th>\n",
       "      <th>grp</th>\n",
       "    </tr>\n",
       "  </thead>\n",
       "  <tbody>\n",
       "    <tr>\n",
       "      <th>0</th>\n",
       "      <td>1489</td>\n",
       "      <td>B</td>\n",
       "    </tr>\n",
       "    <tr>\n",
       "      <th>1</th>\n",
       "      <td>1627</td>\n",
       "      <td>A</td>\n",
       "    </tr>\n",
       "    <tr>\n",
       "      <th>2</th>\n",
       "      <td>1768</td>\n",
       "      <td>B</td>\n",
       "    </tr>\n",
       "    <tr>\n",
       "      <th>3</th>\n",
       "      <td>1783</td>\n",
       "      <td>B</td>\n",
       "    </tr>\n",
       "    <tr>\n",
       "      <th>4</th>\n",
       "      <td>1794</td>\n",
       "      <td>A</td>\n",
       "    </tr>\n",
       "  </tbody>\n",
       "</table>\n",
       "</div>"
      ],
      "text/plain": [
       "     id grp\n",
       "0  1489   B\n",
       "1  1627   A\n",
       "2  1768   B\n",
       "3  1783   B\n",
       "4  1794   A"
      ]
     },
     "execution_count": 126,
     "metadata": {},
     "output_type": "execute_result"
    }
   ],
   "source": [
    "# файл с информацией о принадлежности пользователя к контрольной или экспериментальной группе \n",
    "\n",
    "#(А – контроль, B – целевая группа)\n",
    "\n",
    "groups= pd.read_csv(r'C:\\Users\\mesii\\Jupiter 2.0\\Karpov\\lesson\\final_project\\Проект_2_groups.csv', sep = ';')\n",
    "groups.head()"
   ]
  },
  {
   "cell_type": "code",
   "execution_count": 127,
   "id": "557ee2fa",
   "metadata": {},
   "outputs": [
    {
     "data": {
      "text/plain": [
       "(74484, 2)"
      ]
     },
     "execution_count": 127,
     "metadata": {},
     "output_type": "execute_result"
    }
   ],
   "source": [
    "groups.shape"
   ]
  },
  {
   "cell_type": "code",
   "execution_count": 128,
   "id": "8ef670d1",
   "metadata": {},
   "outputs": [
    {
     "name": "stdout",
     "output_type": "stream",
     "text": [
      "<class 'pandas.core.frame.DataFrame'>\n",
      "RangeIndex: 74484 entries, 0 to 74483\n",
      "Data columns (total 2 columns):\n",
      " #   Column  Non-Null Count  Dtype \n",
      "---  ------  --------------  ----- \n",
      " 0   id      74484 non-null  int64 \n",
      " 1   grp     74484 non-null  object\n",
      "dtypes: int64(1), object(1)\n",
      "memory usage: 1.1+ MB\n"
     ]
    }
   ],
   "source": [
    "groups.info()"
   ]
  },
  {
   "cell_type": "code",
   "execution_count": 129,
   "id": "89b455c1",
   "metadata": {},
   "outputs": [
    {
     "data": {
      "text/html": [
       "<div>\n",
       "<style scoped>\n",
       "    .dataframe tbody tr th:only-of-type {\n",
       "        vertical-align: middle;\n",
       "    }\n",
       "\n",
       "    .dataframe tbody tr th {\n",
       "        vertical-align: top;\n",
       "    }\n",
       "\n",
       "    .dataframe thead th {\n",
       "        text-align: right;\n",
       "    }\n",
       "</style>\n",
       "<table border=\"1\" class=\"dataframe\">\n",
       "  <thead>\n",
       "    <tr style=\"text-align: right;\">\n",
       "      <th></th>\n",
       "      <th>id</th>\n",
       "      <th>grp</th>\n",
       "    </tr>\n",
       "  </thead>\n",
       "  <tbody>\n",
       "    <tr>\n",
       "      <th>0</th>\n",
       "      <td>5694584</td>\n",
       "      <td>B</td>\n",
       "    </tr>\n",
       "    <tr>\n",
       "      <th>1</th>\n",
       "      <td>5694830</td>\n",
       "      <td>B</td>\n",
       "    </tr>\n",
       "    <tr>\n",
       "      <th>2</th>\n",
       "      <td>5695057</td>\n",
       "      <td>B</td>\n",
       "    </tr>\n",
       "    <tr>\n",
       "      <th>3</th>\n",
       "      <td>5698872</td>\n",
       "      <td>B</td>\n",
       "    </tr>\n",
       "    <tr>\n",
       "      <th>4</th>\n",
       "      <td>5699067</td>\n",
       "      <td>B</td>\n",
       "    </tr>\n",
       "  </tbody>\n",
       "</table>\n",
       "</div>"
      ],
      "text/plain": [
       "        id grp\n",
       "0  5694584   B\n",
       "1  5694830   B\n",
       "2  5695057   B\n",
       "3  5698872   B\n",
       "4  5699067   B"
      ]
     },
     "execution_count": 129,
     "metadata": {},
     "output_type": "execute_result"
    }
   ],
   "source": [
    "# дополнительный файл с пользователями, который  прислали спустя 2 дня после передачи данных\n",
    "\n",
    "group_add = pd.read_csv(r\"C:\\Users\\mesii\\Jupiter 2.0\\Karpov\\lesson\\final_project\\Проект_2_group_add.csv\", sep = ',')\n",
    "group_add.head()"
   ]
  },
  {
   "cell_type": "code",
   "execution_count": 130,
   "id": "61a3402a",
   "metadata": {},
   "outputs": [
    {
     "data": {
      "text/plain": [
       "(92, 2)"
      ]
     },
     "execution_count": 130,
     "metadata": {},
     "output_type": "execute_result"
    }
   ],
   "source": [
    "group_add.shape"
   ]
  },
  {
   "cell_type": "code",
   "execution_count": 131,
   "id": "1259e6e1",
   "metadata": {},
   "outputs": [
    {
     "name": "stdout",
     "output_type": "stream",
     "text": [
      "<class 'pandas.core.frame.DataFrame'>\n",
      "RangeIndex: 92 entries, 0 to 91\n",
      "Data columns (total 2 columns):\n",
      " #   Column  Non-Null Count  Dtype \n",
      "---  ------  --------------  ----- \n",
      " 0   id      92 non-null     int64 \n",
      " 1   grp     92 non-null     object\n",
      "dtypes: int64(1), object(1)\n",
      "memory usage: 1.6+ KB\n"
     ]
    }
   ],
   "source": [
    "group_add.info()"
   ]
  },
  {
   "cell_type": "code",
   "execution_count": 132,
   "id": "a1c54cd2",
   "metadata": {},
   "outputs": [
    {
     "data": {
      "text/html": [
       "<div>\n",
       "<style scoped>\n",
       "    .dataframe tbody tr th:only-of-type {\n",
       "        vertical-align: middle;\n",
       "    }\n",
       "\n",
       "    .dataframe tbody tr th {\n",
       "        vertical-align: top;\n",
       "    }\n",
       "\n",
       "    .dataframe thead th {\n",
       "        text-align: right;\n",
       "    }\n",
       "</style>\n",
       "<table border=\"1\" class=\"dataframe\">\n",
       "  <thead>\n",
       "    <tr style=\"text-align: right;\">\n",
       "      <th></th>\n",
       "      <th>student_id</th>\n",
       "    </tr>\n",
       "  </thead>\n",
       "  <tbody>\n",
       "    <tr>\n",
       "      <th>0</th>\n",
       "      <td>581585</td>\n",
       "    </tr>\n",
       "    <tr>\n",
       "      <th>1</th>\n",
       "      <td>5723133</td>\n",
       "    </tr>\n",
       "    <tr>\n",
       "      <th>2</th>\n",
       "      <td>3276743</td>\n",
       "    </tr>\n",
       "    <tr>\n",
       "      <th>3</th>\n",
       "      <td>4238589</td>\n",
       "    </tr>\n",
       "    <tr>\n",
       "      <th>4</th>\n",
       "      <td>4475369</td>\n",
       "    </tr>\n",
       "  </tbody>\n",
       "</table>\n",
       "</div>"
      ],
      "text/plain": [
       "   student_id\n",
       "0      581585\n",
       "1     5723133\n",
       "2     3276743\n",
       "3     4238589\n",
       "4     4475369"
      ]
     },
     "execution_count": 132,
     "metadata": {},
     "output_type": "execute_result"
    }
   ],
   "source": [
    "# файл с информацией о пользователях, которые зашли на платформу в дни проведения эксперимента\n",
    "\n",
    "active_studs = pd.read_csv(r\"C:\\Users\\mesii\\Jupiter 2.0\\Karpov\\lesson\\final_project\\Проект_2_active_studs.csv\", sep = ',')\n",
    "active_studs.head()"
   ]
  },
  {
   "cell_type": "code",
   "execution_count": 133,
   "id": "76052ef4",
   "metadata": {},
   "outputs": [
    {
     "data": {
      "text/plain": [
       "(8341, 1)"
      ]
     },
     "execution_count": 133,
     "metadata": {},
     "output_type": "execute_result"
    }
   ],
   "source": [
    "active_studs.shape"
   ]
  },
  {
   "cell_type": "code",
   "execution_count": 134,
   "id": "71b1c5af",
   "metadata": {},
   "outputs": [
    {
     "name": "stdout",
     "output_type": "stream",
     "text": [
      "<class 'pandas.core.frame.DataFrame'>\n",
      "RangeIndex: 8341 entries, 0 to 8340\n",
      "Data columns (total 1 columns):\n",
      " #   Column      Non-Null Count  Dtype\n",
      "---  ------      --------------  -----\n",
      " 0   student_id  8341 non-null   int64\n",
      "dtypes: int64(1)\n",
      "memory usage: 65.3 KB\n"
     ]
    }
   ],
   "source": [
    "active_studs.info()"
   ]
  },
  {
   "cell_type": "code",
   "execution_count": 135,
   "id": "fc54b5ec",
   "metadata": {
    "scrolled": true
   },
   "outputs": [
    {
     "data": {
      "text/html": [
       "<div>\n",
       "<style scoped>\n",
       "    .dataframe tbody tr th:only-of-type {\n",
       "        vertical-align: middle;\n",
       "    }\n",
       "\n",
       "    .dataframe tbody tr th {\n",
       "        vertical-align: top;\n",
       "    }\n",
       "\n",
       "    .dataframe thead th {\n",
       "        text-align: right;\n",
       "    }\n",
       "</style>\n",
       "<table border=\"1\" class=\"dataframe\">\n",
       "  <thead>\n",
       "    <tr style=\"text-align: right;\">\n",
       "      <th></th>\n",
       "      <th>student_id</th>\n",
       "      <th>rev</th>\n",
       "    </tr>\n",
       "  </thead>\n",
       "  <tbody>\n",
       "    <tr>\n",
       "      <th>0</th>\n",
       "      <td>1627</td>\n",
       "      <td>990.0</td>\n",
       "    </tr>\n",
       "    <tr>\n",
       "      <th>1</th>\n",
       "      <td>3185</td>\n",
       "      <td>690.0</td>\n",
       "    </tr>\n",
       "    <tr>\n",
       "      <th>2</th>\n",
       "      <td>25973</td>\n",
       "      <td>690.0</td>\n",
       "    </tr>\n",
       "    <tr>\n",
       "      <th>3</th>\n",
       "      <td>26280</td>\n",
       "      <td>690.0</td>\n",
       "    </tr>\n",
       "    <tr>\n",
       "      <th>4</th>\n",
       "      <td>100300</td>\n",
       "      <td>990.0</td>\n",
       "    </tr>\n",
       "  </tbody>\n",
       "</table>\n",
       "</div>"
      ],
      "text/plain": [
       "   student_id    rev\n",
       "0        1627  990.0\n",
       "1        3185  690.0\n",
       "2       25973  690.0\n",
       "3       26280  690.0\n",
       "4      100300  990.0"
      ]
     },
     "execution_count": 135,
     "metadata": {},
     "output_type": "execute_result"
    }
   ],
   "source": [
    "# файл с информацией об оплатах пользователей в дни проведения эксперимента\n",
    "\n",
    "checks = pd.read_csv(r\"C:\\Users\\mesii\\Jupiter 2.0\\Karpov\\lesson\\final_project\\Проект_2_checks.csv\", sep = ';')\n",
    "checks.head()"
   ]
  },
  {
   "cell_type": "code",
   "execution_count": 136,
   "id": "3905c3a9",
   "metadata": {},
   "outputs": [
    {
     "data": {
      "text/plain": [
       "(541, 2)"
      ]
     },
     "execution_count": 136,
     "metadata": {},
     "output_type": "execute_result"
    }
   ],
   "source": [
    "checks.shape"
   ]
  },
  {
   "cell_type": "code",
   "execution_count": 137,
   "id": "0ed8ed95",
   "metadata": {},
   "outputs": [
    {
     "name": "stdout",
     "output_type": "stream",
     "text": [
      "<class 'pandas.core.frame.DataFrame'>\n",
      "RangeIndex: 541 entries, 0 to 540\n",
      "Data columns (total 2 columns):\n",
      " #   Column      Non-Null Count  Dtype  \n",
      "---  ------      --------------  -----  \n",
      " 0   student_id  541 non-null    int64  \n",
      " 1   rev         541 non-null    float64\n",
      "dtypes: float64(1), int64(1)\n",
      "memory usage: 8.6 KB\n"
     ]
    }
   ],
   "source": [
    "checks.info()"
   ]
  },
  {
   "cell_type": "markdown",
   "id": "73e119eb",
   "metadata": {},
   "source": [
    "Из полученных данных можно сделать следующие выводы:\n",
    "    Всего участвовало в экперементе **74484** пользователей, **+ 92** пользователя добавили спустя некоторое время, **8341** пользователей \n",
    "    зашли на платформу в дни проведения эксперемента **541** пользователь оплатили продукт. Пропущенных значений в данных нет.\n",
    "    "
   ]
  },
  {
   "cell_type": "markdown",
   "id": "5430186d",
   "metadata": {},
   "source": [
    "Для того чтобы проанализировать данные эксперемента , посмотрим на данные детальнее,для дальнейшей работы с данными:\n",
    "\n",
    "\n",
    "\n",
    "1. Сконкатенируем 1 и 2 таблицы. Довавим дополнительные данные\n",
    "\n",
    "2. добавим активных пользователей в общий дата сет новой колонкой . На месте пропущенных значений будут Null.\n",
    "\n",
    "3. соединим последнюю таблицу , где увидим, сколько пользователей совершили покупку в дни проведения экперемента. Все ли эти пользователи были активными или нет"
   ]
  },
  {
   "cell_type": "code",
   "execution_count": 138,
   "id": "60f181c6",
   "metadata": {},
   "outputs": [
    {
     "data": {
      "text/html": [
       "<div>\n",
       "<style scoped>\n",
       "    .dataframe tbody tr th:only-of-type {\n",
       "        vertical-align: middle;\n",
       "    }\n",
       "\n",
       "    .dataframe tbody tr th {\n",
       "        vertical-align: top;\n",
       "    }\n",
       "\n",
       "    .dataframe thead th {\n",
       "        text-align: right;\n",
       "    }\n",
       "</style>\n",
       "<table border=\"1\" class=\"dataframe\">\n",
       "  <thead>\n",
       "    <tr style=\"text-align: right;\">\n",
       "      <th></th>\n",
       "      <th>id</th>\n",
       "      <th>grp</th>\n",
       "    </tr>\n",
       "  </thead>\n",
       "  <tbody>\n",
       "    <tr>\n",
       "      <th>87</th>\n",
       "      <td>200247820</td>\n",
       "      <td>B</td>\n",
       "    </tr>\n",
       "    <tr>\n",
       "      <th>88</th>\n",
       "      <td>201032527</td>\n",
       "      <td>B</td>\n",
       "    </tr>\n",
       "    <tr>\n",
       "      <th>89</th>\n",
       "      <td>201067612</td>\n",
       "      <td>B</td>\n",
       "    </tr>\n",
       "    <tr>\n",
       "      <th>90</th>\n",
       "      <td>201067653</td>\n",
       "      <td>B</td>\n",
       "    </tr>\n",
       "    <tr>\n",
       "      <th>91</th>\n",
       "      <td>201067659</td>\n",
       "      <td>B</td>\n",
       "    </tr>\n",
       "  </tbody>\n",
       "</table>\n",
       "</div>"
      ],
      "text/plain": [
       "           id grp\n",
       "87  200247820   B\n",
       "88  201032527   B\n",
       "89  201067612   B\n",
       "90  201067653   B\n",
       "91  201067659   B"
      ]
     },
     "execution_count": 138,
     "metadata": {},
     "output_type": "execute_result"
    }
   ],
   "source": [
    "#1. добавим данные второй таблицы в первую\n",
    "\n",
    "group_all = pd.concat([groups, group_add])\n",
    "\n",
    "group_all.shape\n",
    "\n",
    "group_all.tail()"
   ]
  },
  {
   "cell_type": "code",
   "execution_count": 139,
   "id": "9ea52b17",
   "metadata": {},
   "outputs": [
    {
     "data": {
      "text/html": [
       "<div>\n",
       "<style scoped>\n",
       "    .dataframe tbody tr th:only-of-type {\n",
       "        vertical-align: middle;\n",
       "    }\n",
       "\n",
       "    .dataframe tbody tr th {\n",
       "        vertical-align: top;\n",
       "    }\n",
       "\n",
       "    .dataframe thead th {\n",
       "        text-align: right;\n",
       "    }\n",
       "</style>\n",
       "<table border=\"1\" class=\"dataframe\">\n",
       "  <thead>\n",
       "    <tr style=\"text-align: right;\">\n",
       "      <th></th>\n",
       "      <th>id</th>\n",
       "      <th>grp</th>\n",
       "      <th>student_id</th>\n",
       "    </tr>\n",
       "  </thead>\n",
       "  <tbody>\n",
       "    <tr>\n",
       "      <th>74571</th>\n",
       "      <td>200247820</td>\n",
       "      <td>B</td>\n",
       "      <td>NaN</td>\n",
       "    </tr>\n",
       "    <tr>\n",
       "      <th>74572</th>\n",
       "      <td>201032527</td>\n",
       "      <td>B</td>\n",
       "      <td>NaN</td>\n",
       "    </tr>\n",
       "    <tr>\n",
       "      <th>74573</th>\n",
       "      <td>201067612</td>\n",
       "      <td>B</td>\n",
       "      <td>NaN</td>\n",
       "    </tr>\n",
       "    <tr>\n",
       "      <th>74574</th>\n",
       "      <td>201067653</td>\n",
       "      <td>B</td>\n",
       "      <td>NaN</td>\n",
       "    </tr>\n",
       "    <tr>\n",
       "      <th>74575</th>\n",
       "      <td>201067659</td>\n",
       "      <td>B</td>\n",
       "      <td>NaN</td>\n",
       "    </tr>\n",
       "  </tbody>\n",
       "</table>\n",
       "</div>"
      ],
      "text/plain": [
       "              id grp  student_id\n",
       "74571  200247820   B         NaN\n",
       "74572  201032527   B         NaN\n",
       "74573  201067612   B         NaN\n",
       "74574  201067653   B         NaN\n",
       "74575  201067659   B         NaN"
      ]
     },
     "execution_count": 139,
     "metadata": {},
     "output_type": "execute_result"
    }
   ],
   "source": [
    "# 2. Объединим с третьим дата сетом . С активными пользователемя. (Теми, кто был на платформы в дни проведения экперемента)\n",
    "\n",
    "\n",
    "group_total = group_all.merge(active_studs, left_on = 'id' , right_on = 'student_id' , how = 'left')\n",
    "\n",
    "group_total.tail()"
   ]
  },
  {
   "cell_type": "code",
   "execution_count": 140,
   "id": "98de4d90",
   "metadata": {},
   "outputs": [],
   "source": [
    "# 3. Присоединим последнюю таблицу , где увидим, какие пользователи совершили покупку в дни проведения экперемента\n",
    "# Здесь же посмотрим оплаты производили только активные пользователи или есть пользователи , которые оплатили,\n",
    "# но на платформе в дни эксперемнта не были (НАПИСАТЬ КОД!!!!)"
   ]
  },
  {
   "cell_type": "code",
   "execution_count": 141,
   "id": "3bf6f175",
   "metadata": {},
   "outputs": [
    {
     "data": {
      "text/plain": [
       "(392, 2)"
      ]
     },
     "execution_count": 141,
     "metadata": {},
     "output_type": "execute_result"
    }
   ],
   "source": [
    "# количество оплативших пользователей, которые есть в списке активных пользователей\n",
    "count_buy_in_active = checks.query('student_id  in @active_studs.student_id')\n",
    "count_buy_in_active.shape"
   ]
  },
  {
   "cell_type": "code",
   "execution_count": 142,
   "id": "6a9f39ee",
   "metadata": {},
   "outputs": [
    {
     "data": {
      "text/plain": [
       "541"
      ]
     },
     "execution_count": 142,
     "metadata": {},
     "output_type": "execute_result"
    }
   ],
   "source": [
    "checks.student_id.nunique()"
   ]
  },
  {
   "cell_type": "markdown",
   "id": "67c887c3",
   "metadata": {},
   "source": [
    "Можно увидеть ,что количесвто оплативших пользователей **541**  (таблица checks), но при этом  в списке активных (табл.active_studs) присутствует только **392**\n",
    "С чем это может быть связано? возможно с тем , что оплаты проходили от тех пользователей, у которых был оформлен автоматический доступ."
   ]
  },
  {
   "cell_type": "code",
   "execution_count": 143,
   "id": "d0502bf8",
   "metadata": {
    "scrolled": true
   },
   "outputs": [
    {
     "data": {
      "text/html": [
       "<div>\n",
       "<style scoped>\n",
       "    .dataframe tbody tr th:only-of-type {\n",
       "        vertical-align: middle;\n",
       "    }\n",
       "\n",
       "    .dataframe tbody tr th {\n",
       "        vertical-align: top;\n",
       "    }\n",
       "\n",
       "    .dataframe thead th {\n",
       "        text-align: right;\n",
       "    }\n",
       "</style>\n",
       "<table border=\"1\" class=\"dataframe\">\n",
       "  <thead>\n",
       "    <tr style=\"text-align: right;\">\n",
       "      <th></th>\n",
       "      <th>id</th>\n",
       "      <th>grp</th>\n",
       "      <th>student_id</th>\n",
       "      <th>rev</th>\n",
       "    </tr>\n",
       "  </thead>\n",
       "  <tbody>\n",
       "    <tr>\n",
       "      <th>0</th>\n",
       "      <td>1489</td>\n",
       "      <td>B</td>\n",
       "      <td>NaN</td>\n",
       "      <td>NaN</td>\n",
       "    </tr>\n",
       "    <tr>\n",
       "      <th>1</th>\n",
       "      <td>1627</td>\n",
       "      <td>A</td>\n",
       "      <td>1627.0</td>\n",
       "      <td>990.0</td>\n",
       "    </tr>\n",
       "    <tr>\n",
       "      <th>2</th>\n",
       "      <td>1768</td>\n",
       "      <td>B</td>\n",
       "      <td>NaN</td>\n",
       "      <td>NaN</td>\n",
       "    </tr>\n",
       "    <tr>\n",
       "      <th>3</th>\n",
       "      <td>1783</td>\n",
       "      <td>B</td>\n",
       "      <td>NaN</td>\n",
       "      <td>NaN</td>\n",
       "    </tr>\n",
       "    <tr>\n",
       "      <th>4</th>\n",
       "      <td>1794</td>\n",
       "      <td>A</td>\n",
       "      <td>NaN</td>\n",
       "      <td>NaN</td>\n",
       "    </tr>\n",
       "  </tbody>\n",
       "</table>\n",
       "</div>"
      ],
      "text/plain": [
       "     id grp  student_id    rev\n",
       "0  1489   B         NaN    NaN\n",
       "1  1627   A      1627.0  990.0\n",
       "2  1768   B         NaN    NaN\n",
       "3  1783   B         NaN    NaN\n",
       "4  1794   A         NaN    NaN"
      ]
     },
     "execution_count": 143,
     "metadata": {},
     "output_type": "execute_result"
    }
   ],
   "source": [
    "groups_total = group_total.merge(checks, on = 'student_id', how = 'left')\n",
    "\n",
    "groups_total.head()"
   ]
  },
  {
   "cell_type": "code",
   "execution_count": 144,
   "id": "d59f6a4d",
   "metadata": {},
   "outputs": [
    {
     "name": "stdout",
     "output_type": "stream",
     "text": [
      "<class 'pandas.core.frame.DataFrame'>\n",
      "Int64Index: 74576 entries, 0 to 74575\n",
      "Data columns (total 4 columns):\n",
      " #   Column      Non-Null Count  Dtype  \n",
      "---  ------      --------------  -----  \n",
      " 0   id          74576 non-null  int64  \n",
      " 1   grp         74576 non-null  object \n",
      " 2   student_id  74576 non-null  float64\n",
      " 3   rev         74576 non-null  float64\n",
      "dtypes: float64(2), int64(1), object(1)\n",
      "memory usage: 2.8+ MB\n"
     ]
    }
   ],
   "source": [
    "# Заменим все NaN в колонках  student_id, rev на 0\n",
    "\n",
    "groups_total = groups_total.fillna(0)\n",
    "\n",
    "groups_total.head()\n",
    "\n",
    "groups_total.info()"
   ]
  },
  {
   "cell_type": "code",
   "execution_count": 145,
   "id": "e5f6175d",
   "metadata": {},
   "outputs": [
    {
     "data": {
      "text/html": [
       "<div>\n",
       "<style scoped>\n",
       "    .dataframe tbody tr th:only-of-type {\n",
       "        vertical-align: middle;\n",
       "    }\n",
       "\n",
       "    .dataframe tbody tr th {\n",
       "        vertical-align: top;\n",
       "    }\n",
       "\n",
       "    .dataframe thead th {\n",
       "        text-align: right;\n",
       "    }\n",
       "</style>\n",
       "<table border=\"1\" class=\"dataframe\">\n",
       "  <thead>\n",
       "    <tr style=\"text-align: right;\">\n",
       "      <th></th>\n",
       "      <th>id</th>\n",
       "      <th>grp</th>\n",
       "      <th>student_id</th>\n",
       "      <th>rev</th>\n",
       "    </tr>\n",
       "  </thead>\n",
       "  <tbody>\n",
       "    <tr>\n",
       "      <th>0</th>\n",
       "      <td>1489</td>\n",
       "      <td>B</td>\n",
       "      <td>0.0</td>\n",
       "      <td>0.0</td>\n",
       "    </tr>\n",
       "    <tr>\n",
       "      <th>1</th>\n",
       "      <td>1627</td>\n",
       "      <td>A</td>\n",
       "      <td>1627.0</td>\n",
       "      <td>990.0</td>\n",
       "    </tr>\n",
       "    <tr>\n",
       "      <th>2</th>\n",
       "      <td>1768</td>\n",
       "      <td>B</td>\n",
       "      <td>0.0</td>\n",
       "      <td>0.0</td>\n",
       "    </tr>\n",
       "    <tr>\n",
       "      <th>3</th>\n",
       "      <td>1783</td>\n",
       "      <td>B</td>\n",
       "      <td>0.0</td>\n",
       "      <td>0.0</td>\n",
       "    </tr>\n",
       "    <tr>\n",
       "      <th>4</th>\n",
       "      <td>1794</td>\n",
       "      <td>A</td>\n",
       "      <td>0.0</td>\n",
       "      <td>0.0</td>\n",
       "    </tr>\n",
       "  </tbody>\n",
       "</table>\n",
       "</div>"
      ],
      "text/plain": [
       "     id grp  student_id    rev\n",
       "0  1489   B         0.0    0.0\n",
       "1  1627   A      1627.0  990.0\n",
       "2  1768   B         0.0    0.0\n",
       "3  1783   B         0.0    0.0\n",
       "4  1794   A         0.0    0.0"
      ]
     },
     "execution_count": 145,
     "metadata": {},
     "output_type": "execute_result"
    }
   ],
   "source": [
    "groups_total.head()"
   ]
  },
  {
   "cell_type": "code",
   "execution_count": 146,
   "id": "616742f2",
   "metadata": {},
   "outputs": [
    {
     "name": "stdout",
     "output_type": "stream",
     "text": [
      "<class 'pandas.core.frame.DataFrame'>\n",
      "Int64Index: 74576 entries, 0 to 74575\n",
      "Data columns (total 4 columns):\n",
      " #   Column      Non-Null Count  Dtype  \n",
      "---  ------      --------------  -----  \n",
      " 0   id          74576 non-null  int64  \n",
      " 1   grp         74576 non-null  object \n",
      " 2   student_id  74576 non-null  int32  \n",
      " 3   rev         74576 non-null  float64\n",
      "dtypes: float64(1), int32(1), int64(1), object(1)\n",
      "memory usage: 2.6+ MB\n"
     ]
    }
   ],
   "source": [
    "# Поменяем тип float на int для удобства\n",
    "\n",
    "groups_total.student_id = groups_total.student_id.astype(int)\n",
    "groups_total.info()"
   ]
  },
  {
   "cell_type": "code",
   "execution_count": 147,
   "id": "f84aad66",
   "metadata": {},
   "outputs": [
    {
     "data": {
      "text/plain": [
       "74576"
      ]
     },
     "execution_count": 147,
     "metadata": {},
     "output_type": "execute_result"
    }
   ],
   "source": [
    "#Посмотрим на количесвто  активных пользователей\n",
    "\n",
    "groups_total.student_id.count()"
   ]
  },
  {
   "cell_type": "code",
   "execution_count": 148,
   "id": "badbea9b",
   "metadata": {},
   "outputs": [
    {
     "data": {
      "text/plain": [
       "8341"
      ]
     },
     "execution_count": 148,
     "metadata": {},
     "output_type": "execute_result"
    }
   ],
   "source": [
    "#Посмотрим на количесвто  активных пользователей\n",
    "\n",
    "groups_total.query('student_id > 0').student_id.count()"
   ]
  },
  {
   "cell_type": "code",
   "execution_count": 149,
   "id": "8a0ee03a",
   "metadata": {},
   "outputs": [
    {
     "data": {
      "text/plain": [
       "392"
      ]
     },
     "execution_count": 149,
     "metadata": {},
     "output_type": "execute_result"
    }
   ],
   "source": [
    "#Посмотрим на количесвто  активных пользователей и количесвто оплат\n",
    "\n",
    "groups_total.query('student_id > 0 & rev > 0').student_id.count()"
   ]
  },
  {
   "cell_type": "code",
   "execution_count": 150,
   "id": "8b3b6a3f",
   "metadata": {},
   "outputs": [
    {
     "data": {
      "text/plain": [
       "B    59883\n",
       "A    14693\n",
       "Name: grp, dtype: int64"
      ]
     },
     "execution_count": 150,
     "metadata": {},
     "output_type": "execute_result"
    }
   ],
   "source": [
    "# посмотрим на количесто пользователей  с условием разбиения по группам\n",
    "\n",
    "groups_total.grp.value_counts()"
   ]
  },
  {
   "cell_type": "code",
   "execution_count": 151,
   "id": "7305c4a5",
   "metadata": {},
   "outputs": [
    {
     "data": {
      "text/plain": [
       "B    6803\n",
       "A    1538\n",
       "Name: grp, dtype: int64"
      ]
     },
     "execution_count": 151,
     "metadata": {},
     "output_type": "execute_result"
    }
   ],
   "source": [
    "# Посмотрим на количесво активных пользователей с условием разбиения по группам\n",
    "\n",
    "groups_total.query('student_id !=0').grp.value_counts()"
   ]
  },
  {
   "cell_type": "code",
   "execution_count": 152,
   "id": "9d2fedf2",
   "metadata": {},
   "outputs": [
    {
     "data": {
      "text/plain": [
       "B    314\n",
       "A     78\n",
       "Name: grp, dtype: int64"
      ]
     },
     "execution_count": 152,
     "metadata": {},
     "output_type": "execute_result"
    }
   ],
   "source": [
    "# посмотрим на количесто активных пользователей совершивших покупку с условием разбиения по группам\n",
    "\n",
    "groups_total.query('student_id !=0 & rev > 0 ').grp.value_counts()"
   ]
  },
  {
   "cell_type": "markdown",
   "id": "9ff681e5",
   "metadata": {},
   "source": [
    "Итак, у нас есть активные пользователи, те, что заходили на сайт в дни проведения теста и есть пользователи, которые совершили платежи. Активные - не все оплатишие. А оплатившие  - не все активные. Если пользователя не было на платформе в дни\n",
    "проведенеия эксперемента, это может означать возможную ошибку в данных или автоматическое продление подписки например. Таких пользователей не очень много. Дальше будем рабтать только с пользователелями активными.\n",
    "\n",
    "Так же можем увидеть , что пользователи распределены по группам неравномерно. Группа B значительно больше, чем группа А. Т.е. тестовая группа в несколько раз больше контрольной. "
   ]
  },
  {
   "cell_type": "code",
   "execution_count": 153,
   "id": "576261cc",
   "metadata": {},
   "outputs": [],
   "source": [
    "# Сформируем  дата фреймы, которые будем использовать для подсчета метрик и статистики"
   ]
  },
  {
   "cell_type": "code",
   "execution_count": 154,
   "id": "50cfcdd2",
   "metadata": {},
   "outputs": [],
   "source": [
    "# Сформируем дата фрейм , в которм оставим только активных пользователей. С этими данными продолжим работать\n",
    "\n",
    "active_total = groups_total.query('student_id > 0')"
   ]
  },
  {
   "cell_type": "code",
   "execution_count": 155,
   "id": "33dad188",
   "metadata": {},
   "outputs": [],
   "source": [
    "# Дата фрейм , где будут все активные и купившие продукт пользователи\n",
    "\n",
    "active_total_buy = active_total.query('rev > 0')"
   ]
  },
  {
   "cell_type": "code",
   "execution_count": 156,
   "id": "0bf9b896",
   "metadata": {},
   "outputs": [],
   "source": [
    "# Активные , не оплатишие по группам\n",
    "\n",
    "active_total_A = active_total.query('grp == \"A\"')"
   ]
  },
  {
   "cell_type": "code",
   "execution_count": 157,
   "id": "66035e40",
   "metadata": {},
   "outputs": [],
   "source": [
    "active_total_B = active_total.query('grp == \"B\"')"
   ]
  },
  {
   "cell_type": "code",
   "execution_count": 158,
   "id": "9ff96829",
   "metadata": {},
   "outputs": [],
   "source": [
    "# Активные ,  оплатишие по группам"
   ]
  },
  {
   "cell_type": "code",
   "execution_count": 159,
   "id": "40537ed2",
   "metadata": {},
   "outputs": [],
   "source": [
    "active_total_buy_A = active_total.query('grp == \"A\" & rev > 0')"
   ]
  },
  {
   "cell_type": "code",
   "execution_count": 160,
   "id": "9ef6d559",
   "metadata": {},
   "outputs": [],
   "source": [
    "active_total_buy_B = active_total.query('grp == \"B\" & rev > 0')"
   ]
  },
  {
   "cell_type": "code",
   "execution_count": 161,
   "id": "85a77116",
   "metadata": {},
   "outputs": [],
   "source": [
    "#Посмотрим на описательную статистику и  расперделение данных внутри групп у опалтивших и не оплативших пользователей"
   ]
  },
  {
   "cell_type": "code",
   "execution_count": 162,
   "id": "ba12f4e3",
   "metadata": {},
   "outputs": [
    {
     "name": "stderr",
     "output_type": "stream",
     "text": [
      "C:\\Users\\mesii\\anaconda3\\lib\\site-packages\\seaborn\\distributions.py:2619: FutureWarning: `distplot` is a deprecated function and will be removed in a future version. Please adapt your code to use either `displot` (a figure-level function with similar flexibility) or `histplot` (an axes-level function for histograms).\n",
      "  warnings.warn(msg, FutureWarning)\n"
     ]
    },
    {
     "data": {
      "text/plain": [
       "<AxesSubplot:xlabel='rev', ylabel='Density'>"
      ]
     },
     "execution_count": 162,
     "metadata": {},
     "output_type": "execute_result"
    },
    {
     "data": {
      "image/png": "[encoded data removed]",
      "text/plain": [
       "<Figure size 864x432 with 1 Axes>"
      ]
     },
     "metadata": {},
     "output_type": "display_data"
    }
   ],
   "source": [
    "# рапсределение данных в группе А , активных пользователей\n",
    "\n",
    "sns.distplot(active_total_A.rev)"
   ]
  },
  {
   "cell_type": "code",
   "execution_count": 163,
   "id": "47871fb5",
   "metadata": {},
   "outputs": [
    {
     "name": "stderr",
     "output_type": "stream",
     "text": [
      "C:\\Users\\mesii\\anaconda3\\lib\\site-packages\\seaborn\\distributions.py:2619: FutureWarning: `distplot` is a deprecated function and will be removed in a future version. Please adapt your code to use either `displot` (a figure-level function with similar flexibility) or `histplot` (an axes-level function for histograms).\n",
      "  warnings.warn(msg, FutureWarning)\n"
     ]
    },
    {
     "data": {
      "text/plain": [
       "<AxesSubplot:xlabel='rev', ylabel='Density'>"
      ]
     },
     "execution_count": 163,
     "metadata": {},
     "output_type": "execute_result"
    },
    {
     "data": {
      "image/png": "[encoded data removed]",
      "text/plain": [
       "<Figure size 864x432 with 1 Axes>"
      ]
     },
     "metadata": {},
     "output_type": "display_data"
    }
   ],
   "source": [
    "# рапсределение данных в группе B , активных пользователей\n",
    "\n",
    "sns.distplot(active_total_B.rev)"
   ]
  },
  {
   "cell_type": "code",
   "execution_count": 164,
   "id": "bc8c7755",
   "metadata": {},
   "outputs": [
    {
     "name": "stderr",
     "output_type": "stream",
     "text": [
      "C:\\Users\\mesii\\anaconda3\\lib\\site-packages\\seaborn\\distributions.py:2619: FutureWarning: `distplot` is a deprecated function and will be removed in a future version. Please adapt your code to use either `displot` (a figure-level function with similar flexibility) or `histplot` (an axes-level function for histograms).\n",
      "  warnings.warn(msg, FutureWarning)\n"
     ]
    },
    {
     "data": {
      "text/plain": [
       "<AxesSubplot:xlabel='rev', ylabel='Density'>"
      ]
     },
     "execution_count": 164,
     "metadata": {},
     "output_type": "execute_result"
    },
    {
     "data": {
      "image/png": "[encoded data removed]",
      "text/plain": [
       "<Figure size 864x432 with 1 Axes>"
      ]
     },
     "metadata": {},
     "output_type": "display_data"
    }
   ],
   "source": [
    "# рапсределение данных в группе А , активных пользователей опалтивших приложение\n",
    "\n",
    "sns.distplot(active_total_buy_A.rev)"
   ]
  },
  {
   "cell_type": "code",
   "execution_count": 165,
   "id": "b599eb9d",
   "metadata": {},
   "outputs": [
    {
     "name": "stderr",
     "output_type": "stream",
     "text": [
      "C:\\Users\\mesii\\anaconda3\\lib\\site-packages\\seaborn\\distributions.py:2619: FutureWarning: `distplot` is a deprecated function and will be removed in a future version. Please adapt your code to use either `displot` (a figure-level function with similar flexibility) or `histplot` (an axes-level function for histograms).\n",
      "  warnings.warn(msg, FutureWarning)\n"
     ]
    },
    {
     "data": {
      "text/plain": [
       "<AxesSubplot:xlabel='rev', ylabel='Density'>"
      ]
     },
     "execution_count": 165,
     "metadata": {},
     "output_type": "execute_result"
    },
    {
     "data": {
      "image/png": "[encoded data removed]",
      "text/plain": [
       "<Figure size 864x432 with 1 Axes>"
      ]
     },
     "metadata": {},
     "output_type": "display_data"
    }
   ],
   "source": [
    "# рапсределение данных в группе B , активных пользователей опалтивших приложение\n",
    "\n",
    "sns.distplot(active_total_buy_B.rev)"
   ]
  },
  {
   "cell_type": "code",
   "execution_count": 166,
   "id": "2924f830",
   "metadata": {},
   "outputs": [],
   "source": [
    "# Распределение данных не является нормальным. Посмотрим на выбросы построив бокс плоты"
   ]
  },
  {
   "cell_type": "code",
   "execution_count": 167,
   "id": "3658ed6b",
   "metadata": {},
   "outputs": [
    {
     "data": {
      "text/plain": [
       "<AxesSubplot:xlabel='grp', ylabel='rev'>"
      ]
     },
     "execution_count": 167,
     "metadata": {},
     "output_type": "execute_result"
    },
    {
     "data": {
      "image/png": "[encoded data removed]",
      "text/plain": [
       "<Figure size 864x432 with 1 Axes>"
      ]
     },
     "metadata": {},
     "output_type": "display_data"
    }
   ],
   "source": [
    "# посмотрим, на выборосы с помощью боксплотов (все пользователи)\n",
    "sns.boxplot(data=active_total, y='rev', x='grp')"
   ]
  },
  {
   "cell_type": "code",
   "execution_count": 168,
   "id": "fb815f15",
   "metadata": {},
   "outputs": [
    {
     "data": {
      "text/plain": [
       "<AxesSubplot:xlabel='grp', ylabel='rev'>"
      ]
     },
     "execution_count": 168,
     "metadata": {},
     "output_type": "execute_result"
    },
    {
     "data": {
      "image/png": "[encoded data removed]",
      "text/plain": [
       "<Figure size 864x432 with 1 Axes>"
      ]
     },
     "metadata": {},
     "output_type": "display_data"
    }
   ],
   "source": [
    "# посмотрим, на выборосы с помощью боксплотов (сделавшие покупку)\n",
    "sns.boxplot(data=active_total_buy, y='rev', x='grp')"
   ]
  },
  {
   "cell_type": "code",
   "execution_count": 169,
   "id": "0f02a6d1",
   "metadata": {},
   "outputs": [],
   "source": [
    "# В группе А можно увидеть , что выбросов больше"
   ]
  },
  {
   "cell_type": "code",
   "execution_count": 170,
   "id": "2af3a524",
   "metadata": {},
   "outputs": [],
   "source": [
    "# Посмотрим на описательные статистики по группам активных пользователей"
   ]
  },
  {
   "cell_type": "code",
   "execution_count": 171,
   "id": "cd879de2",
   "metadata": {},
   "outputs": [
    {
     "data": {
      "text/plain": [
       "count    1538.000000\n",
       "mean       47.347204\n",
       "std       290.490632\n",
       "min         0.000000\n",
       "25%         0.000000\n",
       "50%         0.000000\n",
       "75%         0.000000\n",
       "max      3660.000000\n",
       "Name: rev, dtype: float64"
      ]
     },
     "execution_count": 171,
     "metadata": {},
     "output_type": "execute_result"
    }
   ],
   "source": [
    "active_total_A.rev.describe()"
   ]
  },
  {
   "cell_type": "code",
   "execution_count": 172,
   "id": "b60eacd5",
   "metadata": {},
   "outputs": [
    {
     "data": {
      "text/plain": [
       "count    6803.000000\n",
       "mean       58.058798\n",
       "std       313.770201\n",
       "min         0.000000\n",
       "25%         0.000000\n",
       "50%         0.000000\n",
       "75%         0.000000\n",
       "max      4650.000000\n",
       "Name: rev, dtype: float64"
      ]
     },
     "execution_count": 172,
     "metadata": {},
     "output_type": "execute_result"
    }
   ],
   "source": [
    "active_total_B.rev.describe()"
   ]
  },
  {
   "cell_type": "code",
   "execution_count": 173,
   "id": "a867926f",
   "metadata": {},
   "outputs": [],
   "source": [
    "# Активных , купивших"
   ]
  },
  {
   "cell_type": "code",
   "execution_count": 174,
   "id": "46b23ea9",
   "metadata": {},
   "outputs": [
    {
     "data": {
      "text/plain": [
       "count      78.000000\n",
       "mean      933.589744\n",
       "std       919.932711\n",
       "min       199.000000\n",
       "25%       290.000000\n",
       "50%       585.000000\n",
       "75%      1114.750000\n",
       "max      3660.000000\n",
       "Name: rev, dtype: float64"
      ]
     },
     "execution_count": 174,
     "metadata": {},
     "output_type": "execute_result"
    }
   ],
   "source": [
    "active_total_buy_A.rev.describe()"
   ]
  },
  {
   "cell_type": "code",
   "execution_count": 175,
   "id": "96aa1ded",
   "metadata": {},
   "outputs": [
    {
     "data": {
      "text/plain": [
       "count     314.000000\n",
       "mean     1257.878992\n",
       "std       790.864254\n",
       "min       199.000000\n",
       "25%       511.750000\n",
       "50%      1140.000000\n",
       "75%      1900.000000\n",
       "max      4650.000000\n",
       "Name: rev, dtype: float64"
      ]
     },
     "execution_count": 175,
     "metadata": {},
     "output_type": "execute_result"
    }
   ],
   "source": [
    "active_total_buy_B.rev.describe()"
   ]
  },
  {
   "cell_type": "markdown",
   "id": "a040620b",
   "metadata": {},
   "source": [
    "### На какие метрики Вы смотрите в ходе анализа и почему?"
   ]
  },
  {
   "cell_type": "markdown",
   "id": "8cbc5be1",
   "metadata": {},
   "source": [
    "- CR  - отношение количества оплативших клиентов к общему числу активных клиентов.\n",
    "- Может отражать удобство механики оплаты и простоту . например, чем проще система , тем пользователю проще оплатить \n",
    "\n",
    "\n",
    "- ARPU - отношение общей суммы на количество активных пользователей.\n",
    " Это показатель , который при увеличении увеличивает прибыль бизнесу\n",
    "\n",
    "- ARPPU - отношение общей суммы на количество активных оплативших пользователей.\n",
    "Это показатель , который при увеличении увеличивает прибыль бизнесу"
   ]
  },
  {
   "cell_type": "markdown",
   "id": "8075c7e4",
   "metadata": {},
   "source": [
    "### CR\n",
    "\n",
    "доля активных пользователей совершивших покупку, относительно всех активных пользоватейлей c разбиением по группам"
   ]
  },
  {
   "cell_type": "code",
   "execution_count": 176,
   "id": "90c405f7",
   "metadata": {},
   "outputs": [
    {
     "data": {
      "text/plain": [
       "0.0507"
      ]
     },
     "execution_count": 176,
     "metadata": {},
     "output_type": "execute_result"
    }
   ],
   "source": [
    "CR_A = round(active_total_buy_A.student_id.count()/active_total_A.student_id.count(),4)\n",
    "CR_A"
   ]
  },
  {
   "cell_type": "code",
   "execution_count": 177,
   "id": "d4e12bd7",
   "metadata": {},
   "outputs": [
    {
     "data": {
      "text/plain": [
       "0.0462"
      ]
     },
     "execution_count": 177,
     "metadata": {},
     "output_type": "execute_result"
    }
   ],
   "source": [
    "CR_B = round(active_total_buy_B.student_id.count()/active_total_B.student_id.count(),4)\n",
    "CR_B"
   ]
  },
  {
   "cell_type": "code",
   "execution_count": 178,
   "id": "0f754268",
   "metadata": {},
   "outputs": [],
   "source": [
    "# По CR можно увидеть, что в группе В показател несколько ниже "
   ]
  },
  {
   "cell_type": "code",
   "execution_count": 179,
   "id": "27b38948",
   "metadata": {},
   "outputs": [],
   "source": [
    "# Посмотрим на другие метрики "
   ]
  },
  {
   "cell_type": "markdown",
   "id": "211a8dfe",
   "metadata": {},
   "source": [
    "### ARPU\n",
    "\n",
    "отношение выручки к общему количеству пользователей"
   ]
  },
  {
   "cell_type": "code",
   "execution_count": 180,
   "id": "0aa2d846",
   "metadata": {},
   "outputs": [
    {
     "data": {
      "text/plain": [
       "47.35"
      ]
     },
     "execution_count": 180,
     "metadata": {},
     "output_type": "execute_result"
    }
   ],
   "source": [
    "ARPU_A = round(active_total_buy_A.rev.sum()/active_total_A.id.count(),2)\n",
    "ARPU_A"
   ]
  },
  {
   "cell_type": "code",
   "execution_count": 181,
   "id": "1903f14b",
   "metadata": {},
   "outputs": [
    {
     "data": {
      "text/plain": [
       "58.06"
      ]
     },
     "execution_count": 181,
     "metadata": {},
     "output_type": "execute_result"
    }
   ],
   "source": [
    "ARPU_B = round(active_total_buy_B.rev.sum()/active_total_B.id.count(),2)\n",
    "ARPU_B"
   ]
  },
  {
   "cell_type": "code",
   "execution_count": 182,
   "id": "f39c88f9",
   "metadata": {},
   "outputs": [],
   "source": [
    "# Здесь уже видим обратные значения. ARPU  группы A меньше ARPU группы B"
   ]
  },
  {
   "cell_type": "markdown",
   "id": "d1b75377",
   "metadata": {},
   "source": [
    "### ARPPU\n",
    "\n",
    "отношение общей суммы на количество активных оплативших пользователей"
   ]
  },
  {
   "cell_type": "code",
   "execution_count": 183,
   "id": "8f46781a",
   "metadata": {},
   "outputs": [
    {
     "data": {
      "text/plain": [
       "47.35"
      ]
     },
     "execution_count": 183,
     "metadata": {},
     "output_type": "execute_result"
    }
   ],
   "source": [
    "ARPPU_A = round(active_total_buy_A.rev.sum()/active_total_buy_A.id.count(),2)\n",
    "ARPU_A"
   ]
  },
  {
   "cell_type": "code",
   "execution_count": 184,
   "id": "842b1585",
   "metadata": {},
   "outputs": [
    {
     "data": {
      "text/plain": [
       "58.06"
      ]
     },
     "execution_count": 184,
     "metadata": {},
     "output_type": "execute_result"
    }
   ],
   "source": [
    "ARPPU_B = round(active_total_buy_B.rev.sum()/active_total_buy_B.id.count(),2)\n",
    "ARPU_B"
   ]
  },
  {
   "cell_type": "code",
   "execution_count": 185,
   "id": "83ea3800",
   "metadata": {},
   "outputs": [],
   "source": [
    "# Здесь так же видим обратные значения. ARPU  группы A меньше ARPPU группы B"
   ]
  },
  {
   "cell_type": "markdown",
   "id": "607b5ad8",
   "metadata": {},
   "source": [
    "### Имеются ли различия в показателях и с чем они могут быть связаны?\n",
    "\n",
    "В тестовой группе можно наблюдать отрицательный эффект в CR. Что может быть связано с неудобством оплаты, так как при этом метрики ARPU и ARPPU - имеют положительный эффект,а значит доход с пользователя растет . Проверим на сколько статзначимы эти результаты"
   ]
  },
  {
   "cell_type": "code",
   "execution_count": 210,
   "id": "0a1a96bd",
   "metadata": {},
   "outputs": [
    {
     "name": "stderr",
     "output_type": "stream",
     "text": [
      "C:\\Users\\mesii\\AppData\\Local\\Temp/ipykernel_18124/3185490683.py:9: SettingWithCopyWarning: \n",
      "A value is trying to be set on a copy of a slice from a DataFrame.\n",
      "Try using .loc[row_indexer,col_indexer] = value instead\n",
      "\n",
      "See the caveats in the documentation: https://pandas.pydata.org/pandas-docs/stable/user_guide/indexing.html#returning-a-view-versus-a-copy\n",
      "  active_total['buy'] = active_total.rev.apply(lambda x: 'buy' if x > 0.0 else 'not_buy')\n"
     ]
    },
    {
     "data": {
      "text/html": [
       "<div>\n",
       "<style scoped>\n",
       "    .dataframe tbody tr th:only-of-type {\n",
       "        vertical-align: middle;\n",
       "    }\n",
       "\n",
       "    .dataframe tbody tr th {\n",
       "        vertical-align: top;\n",
       "    }\n",
       "\n",
       "    .dataframe thead th {\n",
       "        text-align: right;\n",
       "    }\n",
       "</style>\n",
       "<table border=\"1\" class=\"dataframe\">\n",
       "  <thead>\n",
       "    <tr style=\"text-align: right;\">\n",
       "      <th></th>\n",
       "      <th>id</th>\n",
       "      <th>grp</th>\n",
       "      <th>student_id</th>\n",
       "      <th>rev</th>\n",
       "      <th>buy</th>\n",
       "    </tr>\n",
       "  </thead>\n",
       "  <tbody>\n",
       "    <tr>\n",
       "      <th>1</th>\n",
       "      <td>1627</td>\n",
       "      <td>A</td>\n",
       "      <td>1627</td>\n",
       "      <td>990.0</td>\n",
       "      <td>buy</td>\n",
       "    </tr>\n",
       "    <tr>\n",
       "      <th>10</th>\n",
       "      <td>2085</td>\n",
       "      <td>B</td>\n",
       "      <td>2085</td>\n",
       "      <td>0.0</td>\n",
       "      <td>not_buy</td>\n",
       "    </tr>\n",
       "    <tr>\n",
       "      <th>12</th>\n",
       "      <td>2215</td>\n",
       "      <td>B</td>\n",
       "      <td>2215</td>\n",
       "      <td>0.0</td>\n",
       "      <td>not_buy</td>\n",
       "    </tr>\n",
       "    <tr>\n",
       "      <th>43</th>\n",
       "      <td>3391</td>\n",
       "      <td>A</td>\n",
       "      <td>3391</td>\n",
       "      <td>0.0</td>\n",
       "      <td>not_buy</td>\n",
       "    </tr>\n",
       "    <tr>\n",
       "      <th>45</th>\n",
       "      <td>3401</td>\n",
       "      <td>B</td>\n",
       "      <td>3401</td>\n",
       "      <td>0.0</td>\n",
       "      <td>not_buy</td>\n",
       "    </tr>\n",
       "  </tbody>\n",
       "</table>\n",
       "</div>"
      ],
      "text/plain": [
       "      id grp  student_id    rev      buy\n",
       "1   1627   A        1627  990.0      buy\n",
       "10  2085   B        2085    0.0  not_buy\n",
       "12  2215   B        2215    0.0  not_buy\n",
       "43  3391   A        3391    0.0  not_buy\n",
       "45  3401   B        3401    0.0  not_buy"
      ]
     },
     "execution_count": 210,
     "metadata": {},
     "output_type": "execute_result"
    }
   ],
   "source": [
    "#Для определения статзначимых результатом воспользуемся кретиерием хи-квадрат\n",
    "\n",
    "from scipy.stats import chi2_contingency, chi2\n",
    "\n",
    "# Добавим в наш дата фрейм категориальную переменную , в которой buy - совершенная покупка, not_buy -\n",
    "# отсуттвие покупки для подсчета \n",
    "# статистики для метрики CR , будем ориентироваться на сам факт совершения покупки\n",
    "\n",
    "active_total['buy'] = active_total.rev.apply(lambda x: 'buy' if x > 0.0 else 'not_buy')\n",
    "\n",
    "active_total.head()"
   ]
  },
  {
   "cell_type": "code",
   "execution_count": 211,
   "id": "f87db19b",
   "metadata": {},
   "outputs": [
    {
     "data": {
      "text/html": [
       "<div>\n",
       "<style scoped>\n",
       "    .dataframe tbody tr th:only-of-type {\n",
       "        vertical-align: middle;\n",
       "    }\n",
       "\n",
       "    .dataframe tbody tr th {\n",
       "        vertical-align: top;\n",
       "    }\n",
       "\n",
       "    .dataframe thead th {\n",
       "        text-align: right;\n",
       "    }\n",
       "</style>\n",
       "<table border=\"1\" class=\"dataframe\">\n",
       "  <thead>\n",
       "    <tr style=\"text-align: right;\">\n",
       "      <th>grp</th>\n",
       "      <th>A</th>\n",
       "      <th>B</th>\n",
       "    </tr>\n",
       "    <tr>\n",
       "      <th>buy</th>\n",
       "      <th></th>\n",
       "      <th></th>\n",
       "    </tr>\n",
       "  </thead>\n",
       "  <tbody>\n",
       "    <tr>\n",
       "      <th>buy</th>\n",
       "      <td>78</td>\n",
       "      <td>314</td>\n",
       "    </tr>\n",
       "    <tr>\n",
       "      <th>not_buy</th>\n",
       "      <td>1460</td>\n",
       "      <td>6489</td>\n",
       "    </tr>\n",
       "  </tbody>\n",
       "</table>\n",
       "</div>"
      ],
      "text/plain": [
       "grp         A     B\n",
       "buy                \n",
       "buy        78   314\n",
       "not_buy  1460  6489"
      ]
     },
     "execution_count": 211,
     "metadata": {},
     "output_type": "execute_result"
    }
   ],
   "source": [
    "# развернем таблицу \n",
    "pd.crosstab(active_total.buy, active_total.grp)"
   ]
  },
  {
   "cell_type": "code",
   "execution_count": 212,
   "id": "c6cfbdb8",
   "metadata": {},
   "outputs": [
    {
     "data": {
      "text/plain": [
       "(0.484808265225579, 0.48625240457231034)"
      ]
     },
     "execution_count": 212,
     "metadata": {},
     "output_type": "execute_result"
    }
   ],
   "source": [
    "stat, p, dof, expected = chi2_contingency(pd.crosstab(active_total.buy, active_total.grp))\n",
    "\n",
    "stat, p"
   ]
  },
  {
   "cell_type": "code",
   "execution_count": 213,
   "id": "df1353d2",
   "metadata": {},
   "outputs": [
    {
     "name": "stdout",
     "output_type": "stream",
     "text": [
      "Не отклоняем H0\n"
     ]
    }
   ],
   "source": [
    "# интерпретируем резульат\n",
    "\n",
    "prob = 0.95\n",
    "alpha = 1.0 - prob\n",
    "if p <= alpha:\n",
    "    print('Отклоняем H0')\n",
    "else:\n",
    "    print('Не отклоняем H0')\n",
    "\n",
    "# Т.е отклонить нулевую гипотезу мы не можем. Статзначимых различий между группами нет"
   ]
  },
  {
   "cell_type": "code",
   "execution_count": null,
   "id": "3c8cd802",
   "metadata": {},
   "outputs": [],
   "source": [
    "# Для подсчета метрик ARPU и ARPPU воспользуемся tt-test\n",
    "# размер выборки и ее репрезентативность позволяют это сделать "
   ]
  },
  {
   "cell_type": "markdown",
   "id": "80c0c6c0",
   "metadata": {},
   "source": [
    "### ARPU\n",
    "\n",
    "отношение выручки к общему количеству пользователей"
   ]
  },
  {
   "cell_type": "code",
   "execution_count": 214,
   "id": "6abb1483",
   "metadata": {},
   "outputs": [
    {
     "data": {
      "text/plain": [
       "Ttest_indResult(statistic=-1.2253411073793445, pvalue=0.22048133326988378)"
      ]
     },
     "execution_count": 214,
     "metadata": {},
     "output_type": "execute_result"
    }
   ],
   "source": [
    "ttest_ind(active_total.query('grp == \"A\" ').rev,\n",
    "         active_total.query('grp == \"B\" ').rev)"
   ]
  },
  {
   "cell_type": "code",
   "execution_count": null,
   "id": "59ede589",
   "metadata": {},
   "outputs": [],
   "source": [
    "# pvalue > 0,05 , что говорит о том , что статзначимых различий между группами нет"
   ]
  },
  {
   "cell_type": "markdown",
   "id": "cf526681",
   "metadata": {},
   "source": [
    "### ARPPU\n",
    "\n",
    "отношение общей суммы на количество активных оплативших пользователей"
   ]
  },
  {
   "cell_type": "code",
   "execution_count": 215,
   "id": "ffe49a84",
   "metadata": {},
   "outputs": [
    {
     "data": {
      "text/plain": [
       "Ttest_indResult(statistic=-3.1337795050930985, pvalue=0.0018562025265765867)"
      ]
     },
     "execution_count": 215,
     "metadata": {},
     "output_type": "execute_result"
    }
   ],
   "source": [
    "ttest_ind(active_total.query('grp == \"A\" & rev > 0').rev,\n",
    "         active_total.query('grp == \"B\" & rev > 0').rev)"
   ]
  },
  {
   "cell_type": "code",
   "execution_count": null,
   "id": "da4ad561",
   "metadata": {},
   "outputs": [],
   "source": [
    "# pvalue < 0,05 , что говорит о том , что статзначимые различия между группами есть. И показаетль ARPPU не случаен"
   ]
  },
  {
   "cell_type": "markdown",
   "id": "42bfb829",
   "metadata": {},
   "source": [
    "### Вывод\n",
    "\n",
    "Имеет ли смысл раскатывать новую механику оплаты в приложении? Да, соит. Не смотря на то что стат тест на СR  и ARPU показал , что Н0 нельзя отклонить.При это статзначимых результатов о том , что CR  в группе B не случаен - нет.  Метрика ARPPU - имеет положительную динамику.Эта метрика - важный показатель для бизнеса, ее прирост говорит о положительном эффекте. Да , будем раскатывать новую механику. "
   ]
  }
 ],
 "metadata": {
  "kernelspec": {
   "display_name": "Python 3 (ipykernel)",
   "language": "python",
   "name": "python3"
  },
  "language_info": {
   "codemirror_mode": {
    "name": "ipython",
    "version": 3
   },
   "file_extension": ".py",
   "mimetype": "text/x-python",
   "name": "python",
   "nbconvert_exporter": "python",
   "pygments_lexer": "ipython3",
   "version": "3.9.7"
  }
 },
 "nbformat": 4,
 "nbformat_minor": 5
}
