{
 "cells": [
  {
   "cell_type": "markdown",
   "id": "f0c851c6",
   "metadata": {},
   "source": [
    "##  SQL\n",
    "\n",
    "### Очень усердные ученики.\n",
    "\n",
    "Условие\n",
    "\n",
    "Образовательные курсы состоят из различных уроков, каждый из которых состоит из нескольких маленьких заданий. Каждое такое маленькое задание называется \"горошиной\".\n",
    "\n",
    "Назовём очень усердным учеником того пользователя, который хотя бы раз за текущий месяц правильно решил 20 горошин.\n",
    "\n",
    "Необходимо написать оптимальный запрос, который даст информацию о количестве очень усердных студентов."
   ]
  },
  {
   "cell_type": "code",
   "execution_count": 197,
   "id": "bbca284a",
   "metadata": {},
   "outputs": [],
   "source": [
    "# подгружаем необходимые библиотеки\n",
    "#pip install pandahouse  # если библиотека ещё не установлена\n",
    "import pandahouse as ph"
   ]
  },
  {
   "cell_type": "code",
   "execution_count": 198,
   "id": "6671ec1a",
   "metadata": {},
   "outputs": [
    {
     "name": "stdout",
     "output_type": "stream",
     "text": [
      "Requirement already satisfied: pandahouse in c:\\users\\mesii\\anaconda3\\lib\\site-packages (0.2.7)\n",
      "Requirement already satisfied: pandas in c:\\users\\mesii\\anaconda3\\lib\\site-packages (from pandahouse) (1.3.4)\n",
      "Requirement already satisfied: requests in c:\\users\\mesii\\anaconda3\\lib\\site-packages (from pandahouse) (2.26.0)\n",
      "Requirement already satisfied: toolz in c:\\users\\mesii\\anaconda3\\lib\\site-packages (from pandahouse) (0.11.1)\n",
      "Requirement already satisfied: python-dateutil>=2.7.3 in c:\\users\\mesii\\anaconda3\\lib\\site-packages (from pandas->pandahouse) (2.8.2)\n",
      "Requirement already satisfied: numpy>=1.17.3 in c:\\users\\mesii\\anaconda3\\lib\\site-packages (from pandas->pandahouse) (1.22.4)\n",
      "Requirement already satisfied: pytz>=2017.3 in c:\\users\\mesii\\anaconda3\\lib\\site-packages (from pandas->pandahouse) (2021.3)\n",
      "Requirement already satisfied: six>=1.5 in c:\\users\\mesii\\anaconda3\\lib\\site-packages (from python-dateutil>=2.7.3->pandas->pandahouse) (1.16.0)\n",
      "Requirement already satisfied: certifi>=2017.4.17 in c:\\users\\mesii\\anaconda3\\lib\\site-packages (from requests->pandahouse) (2021.10.8)\n",
      "Requirement already satisfied: idna<4,>=2.5 in c:\\users\\mesii\\anaconda3\\lib\\site-packages (from requests->pandahouse) (3.2)\n",
      "Requirement already satisfied: charset-normalizer~=2.0.0 in c:\\users\\mesii\\anaconda3\\lib\\site-packages (from requests->pandahouse) (2.0.4)\n",
      "Requirement already satisfied: urllib3<1.27,>=1.21.1 in c:\\users\\mesii\\anaconda3\\lib\\site-packages (from requests->pandahouse) (1.26.7)\n"
     ]
    },
    {
     "name": "stderr",
     "output_type": "stream",
     "text": [
      "WARNING: Ignoring invalid distribution -tatsmodels (c:\\users\\mesii\\anaconda3\\lib\\site-packages)\n",
      "WARNING: Ignoring invalid distribution -tatsmodels (c:\\users\\mesii\\anaconda3\\lib\\site-packages)\n",
      "WARNING: Ignoring invalid distribution -tatsmodels (c:\\users\\mesii\\anaconda3\\lib\\site-packages)\n",
      "WARNING: Ignoring invalid distribution -tatsmodels (c:\\users\\mesii\\anaconda3\\lib\\site-packages)\n",
      "WARNING: Ignoring invalid distribution -tatsmodels (c:\\users\\mesii\\anaconda3\\lib\\site-packages)\n",
      "WARNING: Ignoring invalid distribution -tatsmodels (c:\\users\\mesii\\anaconda3\\lib\\site-packages)\n"
     ]
    }
   ],
   "source": [
    "!pip install pandahouse"
   ]
  },
  {
   "cell_type": "code",
   "execution_count": 199,
   "id": "48ecbfcc",
   "metadata": {},
   "outputs": [],
   "source": [
    "# Для того , чтобы сканектиться с базой данных SQL "
   ]
  },
  {
   "cell_type": "code",
   "execution_count": 200,
   "id": "37056416",
   "metadata": {},
   "outputs": [],
   "source": [
    "connection_default = {'host': 'http://clickhouse.beslan.pro:8080',\n",
    "                      'database':'default',\n",
    "                      'user':'student', \n",
    "                      'password':'dpo_python_2020'\n",
    "                     }"
   ]
  },
  {
   "cell_type": "code",
   "execution_count": 201,
   "id": "1896096d",
   "metadata": {},
   "outputs": [],
   "source": [
    "# Посмотрим на таблицу в целом"
   ]
  },
  {
   "cell_type": "code",
   "execution_count": 202,
   "id": "aa4e6ab9",
   "metadata": {},
   "outputs": [
    {
     "data": {
      "text/html": [
       "<div>\n",
       "<style scoped>\n",
       "    .dataframe tbody tr th:only-of-type {\n",
       "        vertical-align: middle;\n",
       "    }\n",
       "\n",
       "    .dataframe tbody tr th {\n",
       "        vertical-align: top;\n",
       "    }\n",
       "\n",
       "    .dataframe thead th {\n",
       "        text-align: right;\n",
       "    }\n",
       "</style>\n",
       "<table border=\"1\" class=\"dataframe\">\n",
       "  <thead>\n",
       "    <tr style=\"text-align: right;\">\n",
       "      <th></th>\n",
       "      <th>st_id</th>\n",
       "      <th>timest</th>\n",
       "      <th>correct</th>\n",
       "      <th>subject</th>\n",
       "    </tr>\n",
       "  </thead>\n",
       "  <tbody>\n",
       "    <tr>\n",
       "      <th>0</th>\n",
       "      <td>100379</td>\n",
       "      <td>2021-10-30 13:32:29</td>\n",
       "      <td>1</td>\n",
       "      <td>Theory of probability</td>\n",
       "    </tr>\n",
       "    <tr>\n",
       "      <th>1</th>\n",
       "      <td>100379</td>\n",
       "      <td>2021-10-30 14:11:19</td>\n",
       "      <td>0</td>\n",
       "      <td>Vizualization</td>\n",
       "    </tr>\n",
       "    <tr>\n",
       "      <th>2</th>\n",
       "      <td>100379</td>\n",
       "      <td>2021-10-30 15:54:22</td>\n",
       "      <td>1</td>\n",
       "      <td>Theory of probability</td>\n",
       "    </tr>\n",
       "    <tr>\n",
       "      <th>3</th>\n",
       "      <td>100379</td>\n",
       "      <td>2021-10-30 16:44:50</td>\n",
       "      <td>1</td>\n",
       "      <td>Vizualization</td>\n",
       "    </tr>\n",
       "    <tr>\n",
       "      <th>4</th>\n",
       "      <td>100379</td>\n",
       "      <td>2021-10-30 17:15:05</td>\n",
       "      <td>1</td>\n",
       "      <td>Theory of probability</td>\n",
       "    </tr>\n",
       "  </tbody>\n",
       "</table>\n",
       "</div>"
      ],
      "text/plain": [
       "    st_id              timest  correct                subject\n",
       "0  100379 2021-10-30 13:32:29        1  Theory of probability\n",
       "1  100379 2021-10-30 14:11:19        0          Vizualization\n",
       "2  100379 2021-10-30 15:54:22        1  Theory of probability\n",
       "3  100379 2021-10-30 16:44:50        1          Vizualization\n",
       "4  100379 2021-10-30 17:15:05        1  Theory of probability"
      ]
     },
     "execution_count": 202,
     "metadata": {},
     "output_type": "execute_result"
    }
   ],
   "source": [
    "#пишем запрос, и получаем данные из clickhouse в pandas dataframe\n",
    "query = \"\"\"\n",
    "SELECT  \n",
    "    st_id,\n",
    "    toDateTime(timest) as timest,\n",
    "    correct,\n",
    "    subject \n",
    "FROM default.peas\n",
    "\n",
    "\"\"\"\n",
    "df = ph.read_clickhouse(query, connection=connection_default)\n",
    "df.head()"
   ]
  },
  {
   "cell_type": "code",
   "execution_count": 203,
   "id": "5edf7555",
   "metadata": {},
   "outputs": [],
   "source": [
    "# Посмотрим на усердных студентов "
   ]
  },
  {
   "cell_type": "code",
   "execution_count": 204,
   "id": "03484015",
   "metadata": {},
   "outputs": [
    {
     "data": {
      "text/html": [
       "<div>\n",
       "<style scoped>\n",
       "    .dataframe tbody tr th:only-of-type {\n",
       "        vertical-align: middle;\n",
       "    }\n",
       "\n",
       "    .dataframe tbody tr th {\n",
       "        vertical-align: top;\n",
       "    }\n",
       "\n",
       "    .dataframe thead th {\n",
       "        text-align: right;\n",
       "    }\n",
       "</style>\n",
       "<table border=\"1\" class=\"dataframe\">\n",
       "  <thead>\n",
       "    <tr style=\"text-align: right;\">\n",
       "      <th></th>\n",
       "      <th>count_st_id</th>\n",
       "    </tr>\n",
       "  </thead>\n",
       "  <tbody>\n",
       "    <tr>\n",
       "      <th>0</th>\n",
       "      <td>126</td>\n",
       "    </tr>\n",
       "    <tr>\n",
       "      <th>1</th>\n",
       "      <td>121</td>\n",
       "    </tr>\n",
       "    <tr>\n",
       "      <th>2</th>\n",
       "      <td>111</td>\n",
       "    </tr>\n",
       "    <tr>\n",
       "      <th>3</th>\n",
       "      <td>81</td>\n",
       "    </tr>\n",
       "    <tr>\n",
       "      <th>4</th>\n",
       "      <td>79</td>\n",
       "    </tr>\n",
       "  </tbody>\n",
       "</table>\n",
       "</div>"
      ],
      "text/plain": [
       "   count_st_id\n",
       "0          126\n",
       "1          121\n",
       "2          111\n",
       "3           81\n",
       "4           79"
      ]
     },
     "execution_count": 204,
     "metadata": {},
     "output_type": "execute_result"
    }
   ],
   "source": [
    "query = \"\"\"\n",
    "\n",
    "SELECT  \n",
    "    COUNT(st_id) AS count_st_id\n",
    "FROM default.peas\n",
    "WHERE  correct = 1\n",
    "GROUP BY  st_id \n",
    "HAVING SUM(correct) >= 20\n",
    "ORDER BY SUM(correct) DESC\n",
    "\"\"\"\n",
    "st_id = ph.read_clickhouse(query, connection=connection_default)\n",
    "st_id.head()"
   ]
  },
  {
   "cell_type": "code",
   "execution_count": 205,
   "id": "7177f8c2",
   "metadata": {},
   "outputs": [],
   "source": [
    "# количестве очень усердных студентов одним запросом."
   ]
  },
  {
   "cell_type": "code",
   "execution_count": 206,
   "id": "f1464afd",
   "metadata": {},
   "outputs": [
    {
     "data": {
      "text/html": [
       "<div>\n",
       "<style scoped>\n",
       "    .dataframe tbody tr th:only-of-type {\n",
       "        vertical-align: middle;\n",
       "    }\n",
       "\n",
       "    .dataframe tbody tr th {\n",
       "        vertical-align: top;\n",
       "    }\n",
       "\n",
       "    .dataframe thead th {\n",
       "        text-align: right;\n",
       "    }\n",
       "</style>\n",
       "<table border=\"1\" class=\"dataframe\">\n",
       "  <thead>\n",
       "    <tr style=\"text-align: right;\">\n",
       "      <th></th>\n",
       "      <th>count(count_st_id)</th>\n",
       "    </tr>\n",
       "  </thead>\n",
       "  <tbody>\n",
       "    <tr>\n",
       "      <th>0</th>\n",
       "      <td>136</td>\n",
       "    </tr>\n",
       "  </tbody>\n",
       "</table>\n",
       "</div>"
      ],
      "text/plain": [
       "   count(count_st_id)\n",
       "0                 136"
      ]
     },
     "execution_count": 206,
     "metadata": {},
     "output_type": "execute_result"
    }
   ],
   "source": [
    "#пишем запрос, и получаем данные из clickhouse в pandas dataframe\n",
    "# Так как в таблице данные только за 2021 год октябрь, нельзя вывести значения на текущий месяц. \n",
    "# поэтому запишем конректно месяц\n",
    "query = \"\"\"\n",
    "\n",
    "SELECT COUNT(c.count_st_id)\n",
    "FROM(\n",
    "SELECT  \n",
    "    COUNT(st_id) AS count_st_id\n",
    "FROM default.peas\n",
    "WHERE  correct = 1 AND  MONTH(timest) = '10'   --MONTH(timest) = MONTH(NOW()) -- функция для текущего месяца\n",
    "GROUP BY  st_id                                                              -- но в таблице нет этих данных\n",
    "HAVING SUM(correct) >= 20\n",
    "ORDER BY SUM(correct) DESC) AS c\n",
    "\n",
    "\"\"\"\n",
    "count_id = ph.read_clickhouse(query, connection=connection_default)\n",
    "count_id "
   ]
  },
  {
   "cell_type": "markdown",
   "id": "bf801fc5",
   "metadata": {},
   "source": [
    "### 2.2 Оптимизация воронки\n",
    "\n",
    "2.2 Условие\n",
    "\n",
    "Образовательная платформа предлагает пройти студентам курсы по модели trial: студент может решить бесплатно лишь 30 горошин в день. Для неограниченного количества заданий в определенной дисциплине студенту необходимо приобрести полный доступ. Команда провела эксперимент, где был протестирован новый экран оплаты."
   ]
  },
  {
   "cell_type": "markdown",
   "id": "edfa6b55",
   "metadata": {},
   "source": [
    "Необходимо в одном запросе выгрузить следующую информацию о группах пользователей:\n"
   ]
  },
  {
   "cell_type": "markdown",
   "id": "5b1f691e",
   "metadata": {},
   "source": [
    "- ARPU (Average Revenue Per User ) - отношение выручки к общему количеству пользователей.\n",
    "\n",
    "\n",
    "- ARPAU (Average Revenue Per Active User) - отношение выручки к количеству активных пользователей.\n",
    "\n",
    "\n",
    "- CR в покупку - отношение количества купивших пользователей к общему количеству пользователей.\n",
    "\n",
    "\n",
    "- СR активного пользователя в покупку - отношение количества купивших активных пользователей к общему количеству активных пользователей\n",
    "\n",
    "\n",
    "- CR пользователя из активности по математике (subject = ’math’) в покупку курса по математике - отношение количества купивших активных в математике пользователей к общему количеству активных в математике пользователей.\n",
    "\n",
    "\n",
    "- ARPU считается относительно всех пользователей, попавших в группы.\n",
    "\n",
    "\n",
    "- Активным считается пользователь, за все время решивший больше 10 задач правильно в любых дисциплинах.\n",
    "\n",
    "\n",
    "- Активным по математике считается пользователь, за все время решивший 2 или больше задач правильно по математике."
   ]
  },
  {
   "cell_type": "markdown",
   "id": "5da2dbbe",
   "metadata": {},
   "source": [
    "Для формирования запроса нам потребуются данные из таблиц, на основе которых будем делать расчет необходимых метрик\n",
    "  \n",
    "1. Из таблицы **peas**  запросим список пользвателей . 1 - активные пользователи( те которые решили больше 10 задач ) \n",
    "\n",
    " \n",
    "    \n",
    "2. Так же из таблицы **peas** отберем пользователей с активностью по математике \n",
    "1 - активные \n",
    "\n",
    "\n",
    "3. таблицу  **studs** возьмем полностью. Из нее возьмем сведенья о тестовой и контрольной группах\n",
    "\n",
    "\n",
    "4. Из таблицы **final_project_check** возьмем пользователей , присвоив 0 - тем, кто купил любой предмет 1 - математику\n",
    "\n",
    "    \n",
    "5. Объединим все таблицы , для подсчета нужных метрик\n"
   ]
  },
  {
   "cell_type": "code",
   "execution_count": 207,
   "id": "7556b2cd",
   "metadata": {},
   "outputs": [],
   "source": [
    "# Из таблицы peas получим  новую колонку  пользователей с отметками  \"1\" об активности в целом. Обернем\n",
    "# запрос в подзапрос"
   ]
  },
  {
   "cell_type": "markdown",
   "id": "5a6af9a2",
   "metadata": {},
   "source": [
    "(SELECT st_id, \n",
    "       1 AS active_total --# присваиваем 1 - активным     \n",
    "FROM default.peas \n",
    "    GROUP BY  st_id \n",
    "    HAVING SUM(correct) > 10\n",
    "    )  AS a"
   ]
  },
  {
   "cell_type": "code",
   "execution_count": null,
   "id": "120435e6",
   "metadata": {},
   "outputs": [],
   "source": [
    "# Так же из таблицы peas отберем пользователей с активностью по математике 1 - активные "
   ]
  },
  {
   "cell_type": "markdown",
   "id": "460da808",
   "metadata": {},
   "source": [
    "( SELECT st_id, \n",
    "         1 AS active_subj -- # присваиваем 1 - активным по мат \n",
    "\n",
    "    FROM default.peas \n",
    "    WHERE subject = 'Math'\n",
    "    GROUP BY  st_id \n",
    "    HAVING SUM(correct) > 1)  AS b\n"
   ]
  },
  {
   "cell_type": "code",
   "execution_count": null,
   "id": "5c6e93d0",
   "metadata": {},
   "outputs": [],
   "source": [
    "# таблицу studs возьмем полностью. Из нее возьмем сведенья о тестовой и контрольной группах\n",
    "    studs     \n"
   ]
  },
  {
   "cell_type": "code",
   "execution_count": null,
   "id": "f096232b",
   "metadata": {},
   "outputs": [],
   "source": [
    " # Из таблицы final_project_check возьмем пользователей , присвоив 0 - тем, кто купил любой предмет 1 - математику\n",
    "\n",
    "(SELECT st_id,\n",
    "     SUM(money) AS money,\n",
    "     1 AS sale_subject,\n",
    "     MAX(IF(subject = 'Math', 1, 0 )) AS sale_math\n",
    "FROM default.final_project_check\n",
    "GROUP BY st_id) AS c"
   ]
  },
  {
   "cell_type": "markdown",
   "id": "48306834",
   "metadata": {},
   "source": [
    "### Объединим все 4 подзапроса и посчитаем  метрики\n",
    "\n",
    "В общем запросе вывода данных укажем расчет метрик. В блоке FROM  - объединенные таблицы \n",
    "Каждому запросу дадим имя ( a,b,c ). Сгруппируем по группам (test/control)\n",
    "\n",
    "При этом первой возьмем таблицу studs, так как в ней все данные о студентах. деленные по группам\n",
    "Затем к этой таблице будет присоединять остальные подзапросы.\n"
   ]
  },
  {
   "cell_type": "code",
   "execution_count": null,
   "id": "10d039fc",
   "metadata": {},
   "outputs": [],
   "source": [
    "connection_default = {'host': 'http://clickhouse.beslan.pro:8080',\n",
    "                      'database':'default',\n",
    "                      'user':'student', \n",
    "                      'password':'dpo_python_2020'\n",
    "                     }"
   ]
  },
  {
   "cell_type": "code",
   "execution_count": 209,
   "id": "7d332acd",
   "metadata": {},
   "outputs": [
    {
     "data": {
      "text/html": [
       "<div>\n",
       "<style scoped>\n",
       "    .dataframe tbody tr th:only-of-type {\n",
       "        vertical-align: middle;\n",
       "    }\n",
       "\n",
       "    .dataframe tbody tr th {\n",
       "        vertical-align: top;\n",
       "    }\n",
       "\n",
       "    .dataframe thead th {\n",
       "        text-align: right;\n",
       "    }\n",
       "</style>\n",
       "<table border=\"1\" class=\"dataframe\">\n",
       "  <thead>\n",
       "    <tr style=\"text-align: right;\">\n",
       "      <th></th>\n",
       "      <th>studs.test_grp</th>\n",
       "      <th>ARPU</th>\n",
       "      <th>ARPAU</th>\n",
       "      <th>CR</th>\n",
       "      <th>CR_active</th>\n",
       "      <th>CR_math</th>\n",
       "    </tr>\n",
       "  </thead>\n",
       "  <tbody>\n",
       "    <tr>\n",
       "      <th>0</th>\n",
       "      <td>control</td>\n",
       "      <td>4540.98</td>\n",
       "      <td>10393.70</td>\n",
       "      <td>0.05</td>\n",
       "      <td>0.11</td>\n",
       "      <td>0.07</td>\n",
       "    </tr>\n",
       "    <tr>\n",
       "      <th>1</th>\n",
       "      <td>pilot</td>\n",
       "      <td>11508.47</td>\n",
       "      <td>29739.58</td>\n",
       "      <td>0.11</td>\n",
       "      <td>0.26</td>\n",
       "      <td>0.14</td>\n",
       "    </tr>\n",
       "  </tbody>\n",
       "</table>\n",
       "</div>"
      ],
      "text/plain": [
       "  studs.test_grp      ARPU     ARPAU    CR  CR_active  CR_math\n",
       "0        control   4540.98  10393.70  0.05       0.11     0.07\n",
       "1          pilot  11508.47  29739.58  0.11       0.26     0.14"
      ]
     },
     "execution_count": 209,
     "metadata": {},
     "output_type": "execute_result"
    }
   ],
   "source": [
    "#пишем запрос, и получаем данные из clickhouse в pandas dataframe\n",
    "query = \"\"\"\n",
    "\n",
    "SELECT\n",
    "    studs.test_grp, \n",
    "    ROUND(SUM(c.money) / COUNT(studs.st_id),2) AS ARPU,-- #сумма покупок / всех пользователей\n",
    "    ROUND(SUM(c.money * a.active_total) / SUM(a.active_total),2) AS ARPAU,-- #сумма покупок / всех активных пользователей\n",
    "    ROUND(SUM(c.sale_subject) / COUNT(studs.st_id),2) AS CR,-- #количество покупок / количесвто пользователей\n",
    "    ROUND(SUM( a.active_total * c.sale_subject) / SUM(a.active_total),2) AS CR_active, --#количесвто\n",
    "   -- #активных купивших/ количесвто активных пользователей\n",
    "            \n",
    "    ROUND(SUM(c.sale_math * b.active_subj) / SUM(b.active_subj),2) AS CR_math -- #количесвто активных купивших\n",
    "  --  #по математике / количесвто активных по всем предметам     \n",
    " \n",
    " \n",
    "FROM\n",
    "    \n",
    "default.studs \n",
    "\n",
    "LEFT JOIN \n",
    "(SELECT st_id,\n",
    "     SUM(money) AS money,\n",
    "     1 AS sale_subject,\n",
    "     MAX(IF(subject = 'Math', 1, 0 )) AS sale_math\n",
    "FROM default.final_project_check\n",
    "GROUP BY st_id) AS c\n",
    "    \n",
    "ON studs.st_id = c.st_id\n",
    "\n",
    "LEFT JOIN\n",
    "\n",
    "(SELECT st_id, \n",
    "       1 AS active_total --# присваиваем 1 - активным     \n",
    "FROM default.peas \n",
    "    GROUP BY  st_id \n",
    "    HAVING SUM(correct) > 10\n",
    "    )  AS a\n",
    "    \n",
    "    ON studs.st_id = a.st_id \n",
    "    \n",
    "LEFT JOIN\n",
    "    \n",
    "( SELECT st_id, \n",
    "         1 AS active_subj -- # присваиваем 1 - активным по мат \n",
    "\n",
    "    FROM default.peas \n",
    "    WHERE subject = 'Math'\n",
    "    GROUP BY  st_id \n",
    "    HAVING SUM(correct) > 1)  AS b\n",
    "    \n",
    "ON  a.st_id =  b.st_id  \n",
    "    \n",
    "GROUP BY studs.test_grp\n",
    "\n",
    "\"\"\"\n",
    "\n",
    "metrix = ph.read_clickhouse(query, connection=connection_default)\n",
    "metrix "
   ]
  }
 ],
 "metadata": {
  "kernelspec": {
   "display_name": "Python 3 (ipykernel)",
   "language": "python",
   "name": "python3"
  },
  "language_info": {
   "codemirror_mode": {
    "name": "ipython",
    "version": 3
   },
   "file_extension": ".py",
   "mimetype": "text/x-python",
   "name": "python",
   "nbconvert_exporter": "python",
   "pygments_lexer": "ipython3",
   "version": "3.9.7"
  }
 },
 "nbformat": 4,
 "nbformat_minor": 5
}
